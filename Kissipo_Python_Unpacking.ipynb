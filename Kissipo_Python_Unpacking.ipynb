{
  "nbformat": 4,
  "nbformat_minor": 0,
  "metadata": {
    "colab": {
      "name": "Kissipo-Python-Unpacking.ipynb",
      "provenance": []
    },
    "kernelspec": {
      "name": "python3",
      "display_name": "Python 3"
    },
    "language_info": {
      "name": "python"
    }
  },
  "cells": [
    {
      "cell_type": "markdown",
      "metadata": {
        "id": "YR74zASkWxTT"
      },
      "source": [
        "## 1 List initialization in for-loop"
      ]
    },
    {
      "cell_type": "code",
      "metadata": {
        "id": "6hzr8nTrWyVf"
      },
      "source": [
        "serials=[2 * i + 1 for i in range(3)]\n",
        "print(serials)"
      ],
      "execution_count": null,
      "outputs": []
    },
    {
      "cell_type": "markdown",
      "metadata": {
        "id": "O8VqnktGQp4W"
      },
      "source": [
        "## 2   Unpacking (Multiple assignment)"
      ]
    },
    {
      "cell_type": "code",
      "metadata": {
        "id": "ZlwtpdRdQgc6"
      },
      "source": [
        "a, b, c = [2 * i + 1 for i in range(3)]\n",
        "print(a)\n",
        "print(b)\n",
        "print(c)"
      ],
      "execution_count": null,
      "outputs": []
    },
    {
      "cell_type": "markdown",
      "metadata": {
        "id": "CNfr_9UAfqh8"
      },
      "source": [
        "## 3 Unpacking using *"
      ]
    },
    {
      "cell_type": "code",
      "metadata": {
        "id": "J8Rj4hHDfO4Y"
      },
      "source": [
        "a, *b = [2 * i + 1 for i in range(3)]\n",
        "print(a)\n",
        "print(b)"
      ],
      "execution_count": null,
      "outputs": []
    },
    {
      "cell_type": "markdown",
      "metadata": {
        "id": "p_5KQl89Q7to"
      },
      "source": [
        "## 4 Swapping variables by Unpacking"
      ]
    },
    {
      "cell_type": "code",
      "metadata": {
        "id": "foO0OY7fQ7U2"
      },
      "source": [
        "a, b = 1, 2\n",
        "a, b = b, a\n",
        "print(a, b)"
      ],
      "execution_count": null,
      "outputs": []
    },
    {
      "cell_type": "markdown",
      "metadata": {
        "id": "u-pJ21MBRQk8"
      },
      "source": [
        "## 5   List/string slices (a[start:end])"
      ]
    },
    {
      "cell_type": "code",
      "metadata": {
        "id": "0ibbgHNNRRNY"
      },
      "source": [
        "a = [0, 1, 2, 3, 4, 5, 6, 7, 8, 9, 10]\n",
        "a[2:8]"
      ],
      "execution_count": null,
      "outputs": []
    },
    {
      "cell_type": "code",
      "metadata": {
        "id": "HbtvD_lxYLqL"
      },
      "source": [
        "b = 'I have a pen'\n",
        "b[2:8]"
      ],
      "execution_count": null,
      "outputs": []
    },
    {
      "cell_type": "markdown",
      "metadata": {
        "id": "BpK0DQ9jRUyA"
      },
      "source": [
        "## 6 List/string slices with negative step"
      ]
    },
    {
      "cell_type": "code",
      "metadata": {
        "id": "Cfb5nZRQRU-0"
      },
      "source": [
        "a = [0, 1, 2, 3, 4, 5, 6, 7, 8, 9, 10]\n",
        "a[::-1]"
      ],
      "execution_count": null,
      "outputs": []
    },
    {
      "cell_type": "code",
      "metadata": {
        "id": "Lb4IRJg4Yrsf"
      },
      "source": [
        "b = 'I have a pen'\n",
        "b[::-1]"
      ],
      "execution_count": null,
      "outputs": []
    },
    {
      "cell_type": "markdown",
      "metadata": {
        "id": "ng5eF4LWaQ3B"
      },
      "source": [
        "iterators"
      ]
    },
    {
      "cell_type": "markdown",
      "metadata": {
        "id": "Ws9QhmwDaM9L"
      },
      "source": [
        "Zip"
      ]
    },
    {
      "cell_type": "markdown",
      "metadata": {
        "id": "kIxv0teAR_w1"
      },
      "source": [
        "## 7  Sliding windows (n-grams) using zip and iterators\n",
        "\n",
        "https://en.wikipedia.org/wiki/N-gram"
      ]
    },
    {
      "cell_type": "code",
      "metadata": {
        "id": "IS7pPqmGVyZT"
      },
      "source": [
        "import itertools\n",
        "help(itertools.islice)"
      ],
      "execution_count": null,
      "outputs": []
    },
    {
      "cell_type": "code",
      "metadata": {
        "id": "tjQffffzVXDz"
      },
      "source": [
        "from itertools import islice\n",
        "def n_grams(a, n):\n",
        "  z = (islice(a, i, None) for i in range(n))\n",
        "  return zip(*z)"
      ],
      "execution_count": null,
      "outputs": []
    },
    {
      "cell_type": "code",
      "metadata": {
        "id": "KvgsW8aNR-p9"
      },
      "source": [
        "a = [1, 2, 3, 4, 5, 6]"
      ],
      "execution_count": null,
      "outputs": []
    },
    {
      "cell_type": "code",
      "metadata": {
        "id": "b97z_mcwVkFU"
      },
      "source": [
        "a2=n_grams(a, 2)\n",
        "print(list(a2))"
      ],
      "execution_count": null,
      "outputs": []
    },
    {
      "cell_type": "code",
      "metadata": {
        "id": "AMVM5cSRVnyD"
      },
      "source": [
        "a3=n_grams(a, 3)\n",
        "print(list(a3))"
      ],
      "execution_count": null,
      "outputs": []
    }
  ]
}