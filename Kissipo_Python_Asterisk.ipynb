{
  "nbformat": 4,
  "nbformat_minor": 0,
  "metadata": {
    "colab": {
      "name": "Kissipo-Python-Asterisk.ipynb",
      "provenance": []
    },
    "kernelspec": {
      "name": "python3",
      "display_name": "Python 3"
    },
    "language_info": {
      "name": "python"
    }
  },
  "cells": [
    {
      "cell_type": "markdown",
      "metadata": {
        "id": "RR1mqG98nvjV"
      },
      "source": [
        "#Kissipo-Python-Asterisk\n",
        "在Python 星號(*)有很多不同作用\n",
        "\n",
        "參考: https://stackoverflow.com/questions/21809112/what-does-tuple-and-dict-mean-in-python"
      ]
    },
    {
      "cell_type": "markdown",
      "metadata": {
        "id": "w6BTVrgMpl-3"
      },
      "source": [
        "## * in a function call\n",
        "*t means \"treat the elements of this iterable as positional arguments to this function call.\""
      ]
    },
    {
      "cell_type": "code",
      "metadata": {
        "id": "rE5J8U1Lno7A"
      },
      "source": [
        "def foo(x, y):\n",
        "    print(x+y)"
      ],
      "execution_count": null,
      "outputs": []
    },
    {
      "cell_type": "code",
      "metadata": {
        "id": "v9qMmEGepXYs"
      },
      "source": [
        "t = [1, 2]\n",
        "foo(*t)"
      ],
      "execution_count": null,
      "outputs": []
    },
    {
      "cell_type": "markdown",
      "metadata": {
        "id": "-Z4SEAXbpxIY"
      },
      "source": [
        "## **in a function call\n",
        "**d means \"treat the key-value pairs in the dictionary as additional named arguments to this function call.\""
      ]
    },
    {
      "cell_type": "code",
      "metadata": {
        "id": "tuWu5JD7pxVX"
      },
      "source": [
        "d = {'x':4, 'y':5}\n",
        "foo(*d)\n",
        "foo(**d)"
      ],
      "execution_count": null,
      "outputs": []
    },
    {
      "cell_type": "markdown",
      "metadata": {
        "id": "DqYMLp255raP"
      },
      "source": [
        "## In a function definition\n",
        "\n",
        "*t means \"take all additional positional arguments to this function and pack them into this parameter as a tuple.\""
      ]
    },
    {
      "cell_type": "code",
      "metadata": {
        "id": "mqZPR7M95qVw"
      },
      "source": [
        "def goo(*t):\n",
        "    print(t)"
      ],
      "execution_count": null,
      "outputs": []
    },
    {
      "cell_type": "code",
      "metadata": {
        "id": "lILCzTFX6Lze"
      },
      "source": [
        "goo(1, 2)"
      ],
      "execution_count": null,
      "outputs": []
    },
    {
      "cell_type": "markdown",
      "metadata": {
        "id": "oDzH0o286Usn"
      },
      "source": [
        "**d means \"take all additional named arguments to this function and insert them into this parameter as dictionary entries.\""
      ]
    },
    {
      "cell_type": "code",
      "metadata": {
        "id": "AuLvFL6x6V1D"
      },
      "source": [
        "d = {'x':1, 'y':2}\n",
        "goo(*d)"
      ],
      "execution_count": null,
      "outputs": []
    },
    {
      "cell_type": "code",
      "metadata": {
        "id": "UgyyFd1W7akL"
      },
      "source": [
        "def hoo(x, y):\n",
        "    print(x, y**2)\n"
      ],
      "execution_count": null,
      "outputs": []
    },
    {
      "cell_type": "code",
      "metadata": {
        "id": "H74fOG7m7p8L"
      },
      "source": [
        "d = {'x':1, 'y':2}\n",
        "hoo(**d)"
      ],
      "execution_count": null,
      "outputs": []
    },
    {
      "cell_type": "markdown",
      "metadata": {
        "id": "kelFqEnL7_bS"
      },
      "source": [
        "## In assignments and for loops"
      ]
    },
    {
      "cell_type": "code",
      "metadata": {
        "id": "-w7Mw2d38DXO"
      },
      "source": [
        "x, *xs = (1, 2, 3, 4)\n",
        "print(xs)"
      ],
      "execution_count": null,
      "outputs": []
    },
    {
      "cell_type": "markdown",
      "metadata": {
        "id": "wqct1MxzCbMv"
      },
      "source": [
        "## Unpacking using *"
      ]
    },
    {
      "cell_type": "code",
      "metadata": {
        "id": "Hdi508U1CZoq"
      },
      "source": [
        "a, *b = [2 * i + 1 for i in range(3)]\n",
        "print(a)\n",
        "print(b)"
      ],
      "execution_count": null,
      "outputs": []
    }
  ]
}