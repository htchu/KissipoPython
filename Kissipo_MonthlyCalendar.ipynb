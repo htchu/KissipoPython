{
  "nbformat": 4,
  "nbformat_minor": 0,
  "metadata": {
    "colab": {
      "name": "Kissipo-MonthlyCalendar.ipynb",
      "provenance": [],
      "collapsed_sections": []
    },
    "kernelspec": {
      "name": "python3",
      "display_name": "Python 3"
    },
    "language_info": {
      "name": "python"
    }
  },
  "cells": [
    {
      "cell_type": "markdown",
      "metadata": {
        "id": "xWxDU30TlC90"
      },
      "source": [
        "# Kissipo-MonthlyCalendar"
      ]
    },
    {
      "cell_type": "markdown",
      "metadata": {
        "id": "7Ys5oQIililL"
      },
      "source": [
        "## 萬年曆\n",
        "\n",
        "問題描述：\n",
        "請設計一個萬年曆,可以輸入任意年份(year)及月份(month)，印出該月份月曆。\n",
        "以 2001 年 3 月份為例，格式如下：\n",
        "\n",
        "| SU MO TU WE TH FR SA |\n",
        "|:-------------------------|\n",
        "|&nbsp;&nbsp;&nbsp;&nbsp;&nbsp;&nbsp;&nbsp;&nbsp;&nbsp;&nbsp;&nbsp;&nbsp;&nbsp;&nbsp;&nbsp;&nbsp;&nbsp;&nbsp;&nbsp;&nbsp;&nbsp;&nbsp;&nbsp;&nbsp;&nbsp;&nbsp;&nbsp;&nbsp;1&nbsp;&nbsp;&nbsp; 2&nbsp;&nbsp;&nbsp; 3|\n",
        "|&nbsp;&nbsp;4 &nbsp;&nbsp;&nbsp;5 &nbsp;&nbsp;&nbsp;6 &nbsp;&nbsp;&nbsp;7 &nbsp;&nbsp;&nbsp;8 &nbsp;&nbsp;&nbsp;9&nbsp;&nbsp; 10|\n",
        "|11&nbsp; 12 &nbsp;13 &nbsp;14&nbsp; 15 &nbsp;16&nbsp; 17|\n",
        "|18&nbsp; 19 &nbsp;20 &nbsp;21 &nbsp;22 &nbsp;23 &nbsp;24|\n",
        "|25&nbsp; 26&nbsp; 27&nbsp; 28&nbsp; 29&nbsp; 30&nbsp; 31|\n",
        "\n",
        "1. 一年中每月日數如下表，潤年二月份29 日、平年28 日\n",
        "\n",
        "| 月份  |  1 | 2  |  3 | 4  |  5 | 6  |  7 | 8  | 9 | 10  | 11 | 12 |\n",
        "|---|---|---|---|---|---|---|---|---|---|---|---|---|\n",
        "| 日數  |31| 28| 31| 30| 31| 30| 31| 31| 30| 31| 30| 31  |\n",
        "\n",
        "2. 潤年之判斷為 4 年一潤，逢 100 年不潤，逢 400 年又潤\n",
        "3. 故西元 1 年 1 月 1 日為星期一，而一年有 52 個星期零 1 天，故西元 2 年 1\n",
        "月 1 日為星期二，以此類推)\n",
        "\n",
        "輸入說明：\n",
        "輸入年份(year)及月份(month)。\n",
        "\n",
        "輸出說明：\n",
        "輸出該月份月曆，每個數字間請以tab 間格，最後必須有換行字元。\n",
        "\n",
        "\n",
        "| Sample Input:   |      Sample Output:      |\n",
        "|:----------------|:-------------------------|\n",
        "| 2001 3 | SU MO TU WE TH FR SA |\n",
        "||&nbsp;&nbsp;&nbsp;&nbsp;&nbsp;&nbsp;&nbsp;&nbsp;&nbsp;&nbsp;&nbsp;&nbsp;&nbsp;&nbsp;&nbsp;&nbsp;&nbsp;&nbsp;&nbsp;&nbsp;&nbsp;&nbsp;&nbsp;&nbsp;&nbsp;&nbsp;&nbsp;&nbsp;1&nbsp;&nbsp;&nbsp; 2&nbsp;&nbsp;&nbsp; 3|\n",
        "||&nbsp;&nbsp;4 &nbsp;&nbsp;&nbsp;5 &nbsp;&nbsp;&nbsp;6 &nbsp;&nbsp;&nbsp;7 &nbsp;&nbsp;&nbsp;8 &nbsp;&nbsp;&nbsp;9&nbsp;&nbsp; 10|\n",
        "||11&nbsp; 12 &nbsp;13 &nbsp;14&nbsp; 15 &nbsp;16&nbsp; 17|\n",
        "||18&nbsp; 19 &nbsp;20 &nbsp;21 &nbsp;22 &nbsp;23 &nbsp;24|\n",
        "||25&nbsp; 26&nbsp; 27&nbsp; 28&nbsp; 29&nbsp; 30&nbsp; 31⏎|"
      ]
    },
    {
      "cell_type": "markdown",
      "metadata": {
        "id": "hnlsss7Xl3FX"
      },
      "source": [
        "##Version 1:\n"
      ]
    },
    {
      "cell_type": "code",
      "metadata": {
        "id": "FW6SREw2nfJ1"
      },
      "source": [
        "def leap_year(year):#判斷平瑞年\n",
        "  if year%4==0 and year%100!=0 or year%400==0:\n",
        "    return True\n",
        "  else:\n",
        "    return False\n",
        "def getMonthDays(year,month):#得到每個年份每月的天數\n",
        "  days = 31\n",
        "  if month == 2 :\n",
        "    if leap_year(year):\n",
        "      days=29\n",
        "    else:\n",
        "      days=28\n",
        "  elif month==4 or month==6 or month==9 or month==11:\n",
        "    days=30\n",
        "  return days\n",
        "\n",
        "def getTotalDays(year,month):#計算星期\n",
        "  totalDays=0\n",
        "  for i in range(1,year):\n",
        "    if leap_year(i):\n",
        "      totalDays += 366\n",
        "    else:\n",
        "      totalDays += 365\n",
        "  for i in range(1,month):\n",
        "    totalDays +=getMonthDays(year,i)\n",
        "  return totalDays\n",
        "year, month = map(int, input().split())\n",
        "iCount = 0\n",
        "print(\"SU\\tMO\\tTU\\tWE\\tTH\\tFR\\tSA\")\n",
        "i=1\n",
        "for i in range((getTotalDays(year,month)%7)+1):\n",
        "    print ('\\t', end=\"\"),\n",
        "    iCount+=1\n",
        "for i in range(1,getMonthDays(year,month)+1):\n",
        "    print (i,'\\t', end=\"\"),\n",
        "    iCount +=1\n",
        "    if iCount%7 == 0 :\n",
        "      print ()"
      ],
      "execution_count": null,
      "outputs": []
    },
    {
      "cell_type": "markdown",
      "metadata": {
        "id": "-Aoz-rYin5OU"
      },
      "source": [
        "##Version 2:\n",
        "使用calendar函數庫"
      ]
    },
    {
      "cell_type": "code",
      "metadata": {
        "id": "thJeq1mzl5FF"
      },
      "source": [
        "help(calendar.monthrange)"
      ],
      "execution_count": null,
      "outputs": []
    },
    {
      "cell_type": "code",
      "metadata": {
        "id": "kjwAyBygk40Z"
      },
      "source": [
        "import calendar\n",
        "y, m = map(int, input().split())\n",
        "print(\"SU\\tMO\\tTU\\tWE\\tTH\\tFR\\tSA\")\n",
        "#印空白\n",
        "for day in range(wday+1):\n",
        "  print(\"  \",end=\"\\t\")\n",
        "#印日期\n",
        "wday, mdays = calendar.monthrange(y,m)\n",
        "for day in range(1, mdays+1):\n",
        "  wday += 1\n",
        "  if wday<6:\n",
        "    print(f\"{day:2d}\",end=\"\\t\")\n",
        "  else: # wday==6:\n",
        "    print(f\"{day:2d}\")#end=\"\\n\"換行\n",
        "    wday = -1"
      ],
      "execution_count": null,
      "outputs": []
    }
  ]
}